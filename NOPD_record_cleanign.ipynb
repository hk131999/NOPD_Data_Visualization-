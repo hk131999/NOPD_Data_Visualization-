{
  "nbformat": 4,
  "nbformat_minor": 0,
  "metadata": {
    "colab": {
      "provenance": [],
      "authorship_tag": "ABX9TyMTTGYb8vTa+52d0va9rfLV",
      "include_colab_link": true
    },
    "kernelspec": {
      "name": "python3",
      "display_name": "Python 3"
    },
    "language_info": {
      "name": "python"
    }
  },
  "cells": [
    {
      "cell_type": "markdown",
      "metadata": {
        "id": "view-in-github",
        "colab_type": "text"
      },
      "source": [
        "<a href=\"https://colab.research.google.com/github/hk131999/NOPD_data_cleaning/blob/main/NOPD_record_cleanign.ipynb\" target=\"_parent\"><img src=\"https://colab.research.google.com/assets/colab-badge.svg\" alt=\"Open In Colab\"/></a>"
      ]
    },
    {
      "cell_type": "code",
      "execution_count": null,
      "metadata": {
        "id": "j1aSBStblfQC"
      },
      "outputs": [],
      "source": [
        "import pandas as pd\n",
        "import numpy as np"
      ]
    },
    {
      "cell_type": "code",
      "source": [
        "data=pd.read_csv('NOPD_Use_of_Force_Incidents.csv',na_values='0000')\n",
        "df=pd.DataFrame(data)"
      ],
      "metadata": {
        "id": "N_b_7sSPamLX"
      },
      "execution_count": null,
      "outputs": []
    },
    {
      "cell_type": "code",
      "source": [
        "df.columns"
      ],
      "metadata": {
        "colab": {
          "base_uri": "https://localhost:8080/"
        },
        "id": "GnXLZeb9bKJr",
        "outputId": "1edf3f2d-fd87-47e5-b161-c7f139f58097"
      },
      "execution_count": null,
      "outputs": [
        {
          "output_type": "execute_result",
          "data": {
            "text/plain": [
              "Index(['PIB File Number', 'Date Occurred', 'Originating Bureau',\n",
              "       'Division level', 'Division', 'Unit', 'Working Status', 'Shift',\n",
              "       'Investigation status', 'Disposition', 'Service Type',\n",
              "       'Light Condition', 'Weather Condition', 'Use of Force Type',\n",
              "       'Use of Force Level', 'Subject Influencing Factors',\n",
              "       'Use of Force Effective', 'Officer Race/Ethnicity', 'Officer Gender',\n",
              "       'Officer Age', 'Officer Years of Service', 'Distance Between',\n",
              "       'Subject Gender', 'Subject Ethnicity', 'Subject Age', 'Subject Build',\n",
              "       'Subject Height', 'Subject Injured', 'Subject Hospitalized',\n",
              "       'Subject Arrested', 'Subject Arrest Charges', 'Use of Force Reason',\n",
              "       'Officer Injured'],\n",
              "      dtype='object')"
            ]
          },
          "metadata": {},
          "execution_count": 152
        }
      ]
    },
    {
      "cell_type": "code",
      "source": [
        "df.fillna(\"Unknown\",inplace=True)"
      ],
      "metadata": {
        "id": "KmDcc1G34SiB"
      },
      "execution_count": null,
      "outputs": []
    },
    {
      "cell_type": "code",
      "source": [
        "data=[]\n",
        "for i in range(len(df)):\n",
        "\n",
        "  UOFL=(df['Use of Force Level'][i]).split(\"|\")\n",
        "  UOFT=(df['Use of Force Type'][i]).split(\"|\")\n",
        "  UOFE=(df['Use of Force Effective'][i]).split(\"|\")\n",
        "  OE=(df['Officer Race/Ethnicity'][i]).split(\"|\")\n",
        "  OG=(df['Officer Gender'][i]).split(\"|\")\n",
        "  OA=(df['Officer Age'][i]).split(\"|\")\n",
        "  OYOS=(df['Officer Years of Service'][i]).split(\"|\")\n",
        "  OI=(df['Officer Injured'][i]).split(\"|\")\n",
        "\n",
        "  if(UOFL.count('|')>0):\n",
        "    UOFL.remove('|')\n",
        "    UOFT.remove('|')\n",
        "    UOFE.remove('|')\n",
        "    OE.remove('|')\n",
        "    OG.remove('|')\n",
        "    OA.remove('|')\n",
        "    OYOS.remove('|')\n",
        "    OI.remove('|')\n",
        "  for j in range(len(UOFL)):\n",
        "    item={}\n",
        "    item['PIB File Number'] =(df['PIB File Number'][i])\n",
        "    item['Date Occurred']=df['Date Occurred'][i]\n",
        "    item['Originating Bureau']=df['Originating Bureau'][i]\n",
        "    item['Division level']=df['Division level'][i]\n",
        "    item['Unit']=df['Unit'][i]\n",
        "    item['Workning Status']=df['Working Status'][i]\n",
        "    item['Shift']=df['Shift'][i]\n",
        "    item['Investigation status']=df['Investigation status'][i]\n",
        "    item['Disposition']=df['Disposition'][i]\n",
        "    item['Service Type']=df['Service Type'][i]\n",
        "    item['Light Condition']=df['Light Condition'][i]\n",
        "    item['Weather Condition']=(df['Weather Condition'][i])\n",
        "    item['Use of Force Level']=UOFL[j]\n",
        "    item['Use of Force Type']=UOFT[j]\n",
        "    item['Use of Force Effective']=UOFE[j]\n",
        "    item['Officer Race/Ethnicity']=OE[j]\n",
        "    item['Officer Gender']=OG[j]\n",
        "    item['Officer Age']=OA[j]\n",
        "    item['Officer Years of Service']=OYOS[j]\n",
        "    item['Officer Injured']=OI[j]\n",
        "    data.append(item)\n",
        "pd.DataFrame(data).to_csv('1.csv',index=False)"
      ],
      "metadata": {
        "id": "Wj5YmOwD4k2w"
      },
      "execution_count": null,
      "outputs": []
    },
    {
      "cell_type": "code",
      "source": [
        "data2=[]\n",
        "for i in range(len(df)):\n",
        "  SIF=(df['Subject Influencing Factors'][i]).split(\"|\")\n",
        "  SE=(df['Subject Ethnicity'][i]).split('|')\n",
        "  SG=(df['Subject Gender'][i]).split(\"|\")\n",
        "  SA=(df['Subject Age'][i]).split(\"|\")\n",
        "  SB=(df['Subject Build'][i]).split('|')\n",
        "  SH=(df['Subject Height'][i]).split('|')\n",
        "  SI=(df['Subject Injured'][i]).split('|')\n",
        "  SHD=(df['Subject Hospitalized'][i]).split('|')\n",
        "  SAD=(df['Subject Arrested'][i]).split(\"|\")\n",
        "\n",
        "  if(SIF.count('|')>0):\n",
        "    SIF.remove(\"|\")\n",
        "    SE.remove('|')\n",
        "    SG.remove(\"|\")\n",
        "    SA.remove(\"|\")\n",
        "    SB.remove(\"|\")\n",
        "    SH.remove(\"|\")\n",
        "    SI.remove(\"|\")\n",
        "    SHD.remove(\"|\")\n",
        "    SAD.remove(\"|\")\n",
        "  for j in range(len(SIF)):\n",
        "    item={}\n",
        "   \n",
        "    item['PIB File Number'] =(df['PIB File Number'][i])\n",
        "    item['Date Occurred']=df['Date Occurred'][i]\n",
        "    item['Originating Bureau']=df['Originating Bureau'][i]\n",
        "    item['Division level']=df['Division level'][i]\n",
        "    item['Unit']=df['Unit'][i]\n",
        "    item['Workning Status']=df['Working Status'][i]\n",
        "    item['Shift']=df['Shift'][i]\n",
        "    item['Investigation status']=df['Investigation status'][i]\n",
        "    item['Disposition']=df['Disposition'][i]\n",
        "    item['Service Type']=df['Service Type'][i]\n",
        "    item['Light Condition']=df['Light Condition'][i]\n",
        "    item['Weather Condition']=(df['Weather Condition'][i])\n",
        "    item['Subject Influencing Factors']=SIF[j]\n",
        "    item['Subject Ethnicity']=SE[j]\n",
        "    item['Subject Gender']=SG[j]\n",
        "    try:\n",
        "      item['Subject Age']=SA[j]\n",
        "      item['Subject Build']=SB[j]\n",
        "      item['Subject Height']=SH[j]\n",
        "      item['Subject Injured']=SI[j]\n",
        "      item['Subject Hospitalized']=SHD[j]\n",
        "      item['Subject Arrested']=SAD[j]\n",
        "    except IndexError:\n",
        "       item['Subject Age']='Unknown'\n",
        "       item['Subject Height']='Unknown'\n",
        "       item['Subject Build']='Unknown'\n",
        "       item['Subject Injured']='Unknown'\n",
        "       item['Subject Hospitalized']='Unknown'\n",
        "       item['Subject Arrested']='Unknown'\n",
        "    \n",
        "   \n",
        "    data2.append(item)\n",
        "pd.DataFrame(data2).to_csv('2.csv',index=False)"
      ],
      "metadata": {
        "id": "YRWJ31KD8uBs"
      },
      "execution_count": null,
      "outputs": []
    },
    {
      "cell_type": "code",
      "source": [
        "subject_data=pd.read_csv('2.csv')\n",
        "subject_data.head(2)"
      ],
      "metadata": {
        "id": "pQ3Ob-R9-YwK"
      },
      "execution_count": null,
      "outputs": []
    },
    {
      "cell_type": "code",
      "source": [
        "import seaborn as sns\n",
        "import matplotlib.pyplot as plt\n",
        "fig, ax = plt.subplots(figsize=(20, 10))\n",
        "sns.countplot(data=subject_data,x=subject_data['Subject Ethnicity'],ax=ax)"
      ],
      "metadata": {
        "colab": {
          "base_uri": "https://localhost:8080/",
          "height": 623
        },
        "id": "An2Bqn5kNn5J",
        "outputId": "60179970-3f14-4c59-e06f-f5732166dd97"
      },
      "execution_count": null,
      "outputs": [
        {
          "output_type": "execute_result",
          "data": {
            "text/plain": [
              "<AxesSubplot:xlabel='Subject Ethnicity', ylabel='count'>"
            ]
          },
          "metadata": {},
          "execution_count": 176
        },
        {
          "output_type": "display_data",
          "data": {
            "text/plain": [
              "<Figure size 1440x720 with 1 Axes>"
            ],
            "image/png": "[encoded data removed]"
          },
          "metadata": {
            "needs_background": "light"
          }
        }
      ]
    },
    {
      "cell_type": "code",
      "source": [],
      "metadata": {
        "id": "fZJW-Ns1OAy9"
      },
      "execution_count": null,
      "outputs": []
    },
    {
      "cell_type": "code",
      "source": [],
      "metadata": {
        "id": "Pr-Y1kNCQxL2"
      },
      "execution_count": null,
      "outputs": []
    }
  ]
}